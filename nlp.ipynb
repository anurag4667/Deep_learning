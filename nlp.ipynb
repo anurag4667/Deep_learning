{
  "nbformat": 4,
  "nbformat_minor": 0,
  "metadata": {
    "colab": {
      "provenance": [],
      "authorship_tag": "ABX9TyMk2TM9N/g52aVgPofnjrOQ",
      "include_colab_link": true
    },
    "kernelspec": {
      "name": "python3",
      "display_name": "Python 3"
    },
    "language_info": {
      "name": "python"
    }
  },
  "cells": [
    {
      "cell_type": "markdown",
      "metadata": {
        "id": "view-in-github",
        "colab_type": "text"
      },
      "source": [
        "<a href=\"https://colab.research.google.com/github/anurag4667/Deep_learning/blob/main/nlp.ipynb\" target=\"_parent\"><img src=\"https://colab.research.google.com/assets/colab-badge.svg\" alt=\"Open In Colab\"/></a>"
      ]
    },
    {
      "cell_type": "code",
      "execution_count": 53,
      "metadata": {
        "colab": {
          "base_uri": "https://localhost:8080/"
        },
        "id": "8XWUuVGfnLEi",
        "outputId": "5bf6d1af-69f6-473c-c93c-b7f23e9ee669"
      },
      "outputs": [
        {
          "output_type": "stream",
          "name": "stderr",
          "text": [
            "[nltk_data] Downloading package stopwords to /root/nltk_data...\n",
            "[nltk_data]   Package stopwords is already up-to-date!\n",
            "[nltk_data] Downloading package wordnet to /root/nltk_data...\n",
            "[nltk_data]   Package wordnet is already up-to-date!\n"
          ]
        },
        {
          "output_type": "execute_result",
          "data": {
            "text/plain": [
              "True"
            ]
          },
          "metadata": {},
          "execution_count": 53
        }
      ],
      "source": [
        "import nltk\n",
        "nltk.download('stopwords')\n",
        "nltk.download('wordnet')"
      ]
    },
    {
      "cell_type": "code",
      "source": [
        "paragraph = \"\"\"Breaking Bad follows Walter White, a struggling, frustrated high school chemistry teacher from Albuquerque, New Mexico, who becomes a crime lord in the local methamphetamine drug trade, driven to provide for his family financially after being diagnosed with inoperable lung cancer. Initially making only small batches of meth with his former student Jesse Pinkman in a rolling meth lab, Walter and Jesse eventually expand to make larger batches of an extremely pure, blue meth which creates high demand. Walter takes on the name \"Heisenberg\" to mask his identity. Because of his new business, Walter finds himself at odds with his family, the Drug Enforcement Administration (DEA) through his brother-in-law Hank Schrader, the local gangs and the Mexican drug cartels (including their regional distributors), putting him and his family's lives at risk. The events of the series take place between 2008 and 2010.\"\"\""
      ],
      "metadata": {
        "id": "6ObYOXpHncH2"
      },
      "execution_count": 65,
      "outputs": []
    },
    {
      "cell_type": "code",
      "source": [
        "sentences = nltk.sent_tokenize(paragraph)\n",
        "sentences"
      ],
      "metadata": {
        "colab": {
          "base_uri": "https://localhost:8080/"
        },
        "id": "P_xdfXysoDjK",
        "outputId": "0164e89c-f57a-49cc-c3db-48122cea1b98"
      },
      "execution_count": 39,
      "outputs": [
        {
          "output_type": "execute_result",
          "data": {
            "text/plain": [
              "['Breaking Bad follows Walter White, a struggling, frustrated high school chemistry teacher from Albuquerque, New Mexico, who becomes a crime lord in the local methamphetamine drug trade, driven to provide for his family financially after being diagnosed with inoperable lung cancer.',\n",
              " 'Initially making only small batches of meth with his former student Jesse Pinkman in a rolling meth lab, Walter and Jesse eventually expand to make larger batches of an extremely pure, blue meth which creates high demand.',\n",
              " 'Walter takes on the name \"Heisenberg\" to mask his identity.',\n",
              " \"Because of his new business, Walter finds himself at odds with his family, the Drug Enforcement Administration (DEA) through his brother-in-law Hank Schrader, the local gangs and the Mexican drug cartels (including their regional distributors), putting him and his family's lives at risk.\",\n",
              " 'The events of the series take place between 2008 and 2010.']"
            ]
          },
          "metadata": {},
          "execution_count": 39
        }
      ]
    },
    {
      "cell_type": "code",
      "source": [
        "words = nltk.word_tokenize(paragraph)\n",
        "words"
      ],
      "metadata": {
        "colab": {
          "base_uri": "https://localhost:8080/"
        },
        "id": "dO2XTehVoSxI",
        "outputId": "e337ebf9-53cc-43a3-c27d-b8dd2819b119"
      },
      "execution_count": 40,
      "outputs": [
        {
          "output_type": "execute_result",
          "data": {
            "text/plain": [
              "['Breaking',\n",
              " 'Bad',\n",
              " 'follows',\n",
              " 'Walter',\n",
              " 'White',\n",
              " ',',\n",
              " 'a',\n",
              " 'struggling',\n",
              " ',',\n",
              " 'frustrated',\n",
              " 'high',\n",
              " 'school',\n",
              " 'chemistry',\n",
              " 'teacher',\n",
              " 'from',\n",
              " 'Albuquerque',\n",
              " ',',\n",
              " 'New',\n",
              " 'Mexico',\n",
              " ',',\n",
              " 'who',\n",
              " 'becomes',\n",
              " 'a',\n",
              " 'crime',\n",
              " 'lord',\n",
              " 'in',\n",
              " 'the',\n",
              " 'local',\n",
              " 'methamphetamine',\n",
              " 'drug',\n",
              " 'trade',\n",
              " ',',\n",
              " 'driven',\n",
              " 'to',\n",
              " 'provide',\n",
              " 'for',\n",
              " 'his',\n",
              " 'family',\n",
              " 'financially',\n",
              " 'after',\n",
              " 'being',\n",
              " 'diagnosed',\n",
              " 'with',\n",
              " 'inoperable',\n",
              " 'lung',\n",
              " 'cancer',\n",
              " '.',\n",
              " 'Initially',\n",
              " 'making',\n",
              " 'only',\n",
              " 'small',\n",
              " 'batches',\n",
              " 'of',\n",
              " 'meth',\n",
              " 'with',\n",
              " 'his',\n",
              " 'former',\n",
              " 'student',\n",
              " 'Jesse',\n",
              " 'Pinkman',\n",
              " 'in',\n",
              " 'a',\n",
              " 'rolling',\n",
              " 'meth',\n",
              " 'lab',\n",
              " ',',\n",
              " 'Walter',\n",
              " 'and',\n",
              " 'Jesse',\n",
              " 'eventually',\n",
              " 'expand',\n",
              " 'to',\n",
              " 'make',\n",
              " 'larger',\n",
              " 'batches',\n",
              " 'of',\n",
              " 'an',\n",
              " 'extremely',\n",
              " 'pure',\n",
              " ',',\n",
              " 'blue',\n",
              " 'meth',\n",
              " 'which',\n",
              " 'creates',\n",
              " 'high',\n",
              " 'demand',\n",
              " '.',\n",
              " 'Walter',\n",
              " 'takes',\n",
              " 'on',\n",
              " 'the',\n",
              " 'name',\n",
              " '``',\n",
              " 'Heisenberg',\n",
              " \"''\",\n",
              " 'to',\n",
              " 'mask',\n",
              " 'his',\n",
              " 'identity',\n",
              " '.',\n",
              " 'Because',\n",
              " 'of',\n",
              " 'his',\n",
              " 'new',\n",
              " 'business',\n",
              " ',',\n",
              " 'Walter',\n",
              " 'finds',\n",
              " 'himself',\n",
              " 'at',\n",
              " 'odds',\n",
              " 'with',\n",
              " 'his',\n",
              " 'family',\n",
              " ',',\n",
              " 'the',\n",
              " 'Drug',\n",
              " 'Enforcement',\n",
              " 'Administration',\n",
              " '(',\n",
              " 'DEA',\n",
              " ')',\n",
              " 'through',\n",
              " 'his',\n",
              " 'brother-in-law',\n",
              " 'Hank',\n",
              " 'Schrader',\n",
              " ',',\n",
              " 'the',\n",
              " 'local',\n",
              " 'gangs',\n",
              " 'and',\n",
              " 'the',\n",
              " 'Mexican',\n",
              " 'drug',\n",
              " 'cartels',\n",
              " '(',\n",
              " 'including',\n",
              " 'their',\n",
              " 'regional',\n",
              " 'distributors',\n",
              " ')',\n",
              " ',',\n",
              " 'putting',\n",
              " 'him',\n",
              " 'and',\n",
              " 'his',\n",
              " 'family',\n",
              " \"'s\",\n",
              " 'lives',\n",
              " 'at',\n",
              " 'risk',\n",
              " '.',\n",
              " 'The',\n",
              " 'events',\n",
              " 'of',\n",
              " 'the',\n",
              " 'series',\n",
              " 'take',\n",
              " 'place',\n",
              " 'between',\n",
              " '2008',\n",
              " 'and',\n",
              " '2010',\n",
              " '.']"
            ]
          },
          "metadata": {},
          "execution_count": 40
        }
      ]
    },
    {
      "cell_type": "code",
      "source": [
        "# used for stemming\n",
        "from nltk.stem import PorterStemmer\n",
        "\n",
        "# repetitive ords like \"the\" , \"they\" , \"of\" , \"them\" ,\"and\" etc. are removed\n",
        "from nltk.corpus import stopwords"
      ],
      "metadata": {
        "id": "sSDCWOD2qQX7"
      },
      "execution_count": 55,
      "outputs": []
    },
    {
      "cell_type": "code",
      "source": [
        "stemmer = PorterStemmer()\n",
        "\n",
        "for i in range(len(sentences)):\n",
        "  words = nltk.word_tokenize(sentences[i])\n",
        "  words = [stemmer.stem(word) for word in words if word not in set(stopwords.words('english'))]\n",
        "  sentences[i] = ' '.join(words)\n"
      ],
      "metadata": {
        "id": "TruKQ1qaq3Zy"
      },
      "execution_count": 23,
      "outputs": []
    },
    {
      "cell_type": "code",
      "source": [
        "# stem ords but some might not have concrete meaning\n",
        "sentences"
      ],
      "metadata": {
        "colab": {
          "base_uri": "https://localhost:8080/"
        },
        "id": "PvdLZeQRs63-",
        "outputId": "cf32e5f4-cfed-4788-8a95-3553660fa081"
      },
      "execution_count": 66,
      "outputs": [
        {
          "output_type": "execute_result",
          "data": {
            "text/plain": [
              "['Breaking Bad follows Walter White, a struggling, frustrated high school chemistry teacher from Albuquerque, New Mexico, who becomes a crime lord in the local methamphetamine drug trade, driven to provide for his family financially after being diagnosed with inoperable lung cancer.',\n",
              " 'Initially making only small batches of meth with his former student Jesse Pinkman in a rolling meth lab, Walter and Jesse eventually expand to make larger batches of an extremely pure, blue meth which creates high demand.',\n",
              " 'Walter takes on the name \"Heisenberg\" to mask his identity.',\n",
              " \"Because of his new business, Walter finds himself at odds with his family, the Drug Enforcement Administration (DEA) through his brother-in-law Hank Schrader, the local gangs and the Mexican drug cartels (including their regional distributors), putting him and his family's lives at risk.\",\n",
              " 'The events of the series take place between 2008 and 2010.']"
            ]
          },
          "metadata": {},
          "execution_count": 66
        }
      ]
    },
    {
      "cell_type": "code",
      "source": [
        "# lemmitization\n",
        "\n",
        "from nltk.stem import WordNetLemmatizer\n",
        "lemmatizer = WordNetLemmatizer()\n",
        "\n",
        "print(lemmatizer.lemmatize(\"cats\"))"
      ],
      "metadata": {
        "colab": {
          "base_uri": "https://localhost:8080/"
        },
        "id": "EbPrwZB-tWZ0",
        "outputId": "e11bcc36-287c-41a9-e3c7-6640caae1a28"
      },
      "execution_count": 28,
      "outputs": [
        {
          "output_type": "stream",
          "name": "stdout",
          "text": [
            "cat\n"
          ]
        }
      ]
    },
    {
      "cell_type": "code",
      "source": [
        "sentences = nltk.sent_tokenize(paragraph)\n",
        "for i in range(len(sentences)):\n",
        "  words = nltk.word_tokenize(sentences[i])\n",
        "  words = [lemmatizer.lemmatize(word) for word in words if word not in set(stopwords.words('english'))]\n",
        "  sentences[i] = ' '.join(words)"
      ],
      "metadata": {
        "id": "FHEW93O_tnWo"
      },
      "execution_count": 45,
      "outputs": []
    },
    {
      "cell_type": "code",
      "source": [
        "sentences"
      ],
      "metadata": {
        "colab": {
          "base_uri": "https://localhost:8080/"
        },
        "id": "KMFL_IgPt0eN",
        "outputId": "c6bc684f-b81a-4eb0-a790-350e59369ced"
      },
      "execution_count": 59,
      "outputs": [
        {
          "output_type": "execute_result",
          "data": {
            "text/plain": [
              "['Breaking Bad follows Walter White, a struggling, frustrated high school chemistry teacher from Albuquerque, New Mexico, who becomes a crime lord in the local methamphetamine drug trade, driven to provide for his family financially after being diagnosed with inoperable lung cancer.',\n",
              " 'Initially making only small batches of meth with his former student Jesse Pinkman in a rolling meth lab, Walter and Jesse eventually expand to make larger batches of an extremely pure, blue meth which creates high demand.',\n",
              " 'Walter takes on the name \"Heisenberg\" to mask his identity.',\n",
              " \"Because of his new business, Walter finds himself at odds with his family, the Drug Enforcement Administration (DEA) through his brother-in-law Hank Schrader, the local gangs and the Mexican drug cartels (including their regional distributors), putting him and his family's lives at risk.\",\n",
              " 'The events of the series take place between 2008 and 2010.']"
            ]
          },
          "metadata": {},
          "execution_count": 59
        }
      ]
    },
    {
      "cell_type": "code",
      "source": [
        "import re\n",
        "from nltk.corpus import stopwords\n",
        "from nltk.stem.porter import PorterStemmer\n",
        "from nltk.stem import WordNetLemmatizer\n",
        "import nltk\n",
        "nltk.download('stopwords')\n",
        "nltk.download('wordnet')\n",
        "ps = PorterStemmer()\n",
        "sentences = nltk.sent_tokenize(paragraph)\n",
        "corpus = []\n",
        "sentences"
      ],
      "metadata": {
        "colab": {
          "base_uri": "https://localhost:8080/"
        },
        "id": "s_4TemFC0Jq5",
        "outputId": "0e74f6ff-a88c-48bd-e58e-957c29af4944"
      },
      "execution_count": 67,
      "outputs": [
        {
          "output_type": "stream",
          "name": "stderr",
          "text": [
            "[nltk_data] Downloading package stopwords to /root/nltk_data...\n",
            "[nltk_data]   Package stopwords is already up-to-date!\n",
            "[nltk_data] Downloading package wordnet to /root/nltk_data...\n",
            "[nltk_data]   Package wordnet is already up-to-date!\n"
          ]
        },
        {
          "output_type": "execute_result",
          "data": {
            "text/plain": [
              "['Breaking Bad follows Walter White, a struggling, frustrated high school chemistry teacher from Albuquerque, New Mexico, who becomes a crime lord in the local methamphetamine drug trade, driven to provide for his family financially after being diagnosed with inoperable lung cancer.',\n",
              " 'Initially making only small batches of meth with his former student Jesse Pinkman in a rolling meth lab, Walter and Jesse eventually expand to make larger batches of an extremely pure, blue meth which creates high demand.',\n",
              " 'Walter takes on the name \"Heisenberg\" to mask his identity.',\n",
              " \"Because of his new business, Walter finds himself at odds with his family, the Drug Enforcement Administration (DEA) through his brother-in-law Hank Schrader, the local gangs and the Mexican drug cartels (including their regional distributors), putting him and his family's lives at risk.\",\n",
              " 'The events of the series take place between 2008 and 2010.']"
            ]
          },
          "metadata": {},
          "execution_count": 67
        }
      ]
    },
    {
      "cell_type": "code",
      "source": [
        "for i in range(len(sentences)):\n",
        "  review = re.sub('[^a-zA-Z]' , ' ', sentences[i])\n",
        "  review = review.lower()\n",
        "  review = review.split()\n",
        "  review = [ps.stem(word) for word in words if word not in set(stopwords.words('english'))]\n",
        "  review = ' '.join(review)\n",
        "  corpus.append(review)\n",
        "corpus"
      ],
      "metadata": {
        "colab": {
          "base_uri": "https://localhost:8080/"
        },
        "id": "7fEs-ssP0ou7",
        "outputId": "03e2b857-d33b-4241-f9b2-4667812a5c75"
      },
      "execution_count": 68,
      "outputs": [
        {
          "output_type": "execute_result",
          "data": {
            "text/plain": [
              "['the event seri take place 2008 2010 .',\n",
              " 'the event seri take place 2008 2010 .',\n",
              " 'the event seri take place 2008 2010 .',\n",
              " 'the event seri take place 2008 2010 .',\n",
              " 'the event seri take place 2008 2010 .']"
            ]
          },
          "metadata": {},
          "execution_count": 68
        }
      ]
    },
    {
      "cell_type": "code",
      "source": [
        "from sklearn.feature_extraction.text import CountVectorizer\n",
        "cv = CountVectorizer(max_features=1500)\n",
        "X = cv.fit_transform(corpus).toarray()\n",
        "X"
      ],
      "metadata": {
        "colab": {
          "base_uri": "https://localhost:8080/"
        },
        "id": "8fECACKq1b8y",
        "outputId": "0d295a9b-0e6d-401b-ac56-c61baee04f36"
      },
      "execution_count": 63,
      "outputs": [
        {
          "output_type": "execute_result",
          "data": {
            "text/plain": [
              "array([[1, 1, 1, 1, 1, 1, 1],\n",
              "       [1, 1, 1, 1, 1, 1, 1],\n",
              "       [1, 1, 1, 1, 1, 1, 1],\n",
              "       [1, 1, 1, 1, 1, 1, 1],\n",
              "       [1, 1, 1, 1, 1, 1, 1]])"
            ]
          },
          "metadata": {},
          "execution_count": 63
        }
      ]
    }
  ]
}