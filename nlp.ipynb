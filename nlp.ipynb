{
  "nbformat": 4,
  "nbformat_minor": 0,
  "metadata": {
    "colab": {
      "provenance": [],
      "authorship_tag": "ABX9TyOlUhSJYRjt1oaPwis9GIx+",
      "include_colab_link": true
    },
    "kernelspec": {
      "name": "python3",
      "display_name": "Python 3"
    },
    "language_info": {
      "name": "python"
    }
  },
  "cells": [
    {
      "cell_type": "markdown",
      "metadata": {
        "id": "view-in-github",
        "colab_type": "text"
      },
      "source": [
        "<a href=\"https://colab.research.google.com/github/anurag4667/Deep_learning/blob/main/nlp.ipynb\" target=\"_parent\"><img src=\"https://colab.research.google.com/assets/colab-badge.svg\" alt=\"Open In Colab\"/></a>"
      ]
    },
    {
      "cell_type": "code",
      "execution_count": 5,
      "metadata": {
        "colab": {
          "base_uri": "https://localhost:8080/"
        },
        "id": "8XWUuVGfnLEi",
        "outputId": "6e730486-ad72-4fd5-e1c3-b406d248d00a"
      },
      "outputs": [
        {
          "output_type": "stream",
          "name": "stderr",
          "text": [
            "[nltk_data] Downloading package stopwords to /root/nltk_data...\n",
            "[nltk_data]   Package stopwords is already up-to-date!\n",
            "[nltk_data] Downloading package wordnet to /root/nltk_data...\n",
            "[nltk_data]   Package wordnet is already up-to-date!\n",
            "[nltk_data] Downloading package punkt_tab to /root/nltk_data...\n",
            "[nltk_data]   Unzipping tokenizers/punkt_tab.zip.\n"
          ]
        },
        {
          "output_type": "execute_result",
          "data": {
            "text/plain": [
              "True"
            ]
          },
          "metadata": {},
          "execution_count": 5
        }
      ],
      "source": [
        "import nltk\n",
        "nltk.download('stopwords')\n",
        "nltk.download('wordnet')\n",
        "nltk.download('punkt_tab')"
      ]
    },
    {
      "cell_type": "code",
      "source": [
        "paragraph = \"\"\"Breaking Bad follows Walter White, a struggling, frustrated high school chemistry teacher from Albuquerque, New Mexico, who becomes a crime lord in the local methamphetamine drug trade, driven to provide for his family financially after being diagnosed with inoperable lung cancer. Initially making only small batches of meth with his former student Jesse Pinkman in a rolling meth lab, Walter and Jesse eventually expand to make larger batches of an extremely pure, blue meth which creates high demand. Walter takes on the name \"Heisenberg\" to mask his identity. Because of his new business, Walter finds himself at odds with his family, the Drug Enforcement Administration (DEA) through his brother-in-law Hank Schrader, the local gangs and the Mexican drug cartels (including their regional distributors), putting him and his family's lives at risk. The events of the series take place between 2008 and 2010.\"\"\""
      ],
      "metadata": {
        "id": "6ObYOXpHncH2"
      },
      "execution_count": 6,
      "outputs": []
    },
    {
      "cell_type": "code",
      "source": [
        "sentences = nltk.sent_tokenize(paragraph)\n",
        "sentences"
      ],
      "metadata": {
        "colab": {
          "base_uri": "https://localhost:8080/"
        },
        "id": "P_xdfXysoDjK",
        "outputId": "0164e89c-f57a-49cc-c3db-48122cea1b98"
      },
      "execution_count": null,
      "outputs": [
        {
          "output_type": "execute_result",
          "data": {
            "text/plain": [
              "['Breaking Bad follows Walter White, a struggling, frustrated high school chemistry teacher from Albuquerque, New Mexico, who becomes a crime lord in the local methamphetamine drug trade, driven to provide for his family financially after being diagnosed with inoperable lung cancer.',\n",
              " 'Initially making only small batches of meth with his former student Jesse Pinkman in a rolling meth lab, Walter and Jesse eventually expand to make larger batches of an extremely pure, blue meth which creates high demand.',\n",
              " 'Walter takes on the name \"Heisenberg\" to mask his identity.',\n",
              " \"Because of his new business, Walter finds himself at odds with his family, the Drug Enforcement Administration (DEA) through his brother-in-law Hank Schrader, the local gangs and the Mexican drug cartels (including their regional distributors), putting him and his family's lives at risk.\",\n",
              " 'The events of the series take place between 2008 and 2010.']"
            ]
          },
          "metadata": {},
          "execution_count": 39
        }
      ]
    },
    {
      "cell_type": "code",
      "source": [
        "words = nltk.word_tokenize(paragraph)\n",
        "words"
      ],
      "metadata": {
        "colab": {
          "base_uri": "https://localhost:8080/"
        },
        "id": "dO2XTehVoSxI",
        "outputId": "e337ebf9-53cc-43a3-c27d-b8dd2819b119"
      },
      "execution_count": null,
      "outputs": [
        {
          "output_type": "execute_result",
          "data": {
            "text/plain": [
              "['Breaking',\n",
              " 'Bad',\n",
              " 'follows',\n",
              " 'Walter',\n",
              " 'White',\n",
              " ',',\n",
              " 'a',\n",
              " 'struggling',\n",
              " ',',\n",
              " 'frustrated',\n",
              " 'high',\n",
              " 'school',\n",
              " 'chemistry',\n",
              " 'teacher',\n",
              " 'from',\n",
              " 'Albuquerque',\n",
              " ',',\n",
              " 'New',\n",
              " 'Mexico',\n",
              " ',',\n",
              " 'who',\n",
              " 'becomes',\n",
              " 'a',\n",
              " 'crime',\n",
              " 'lord',\n",
              " 'in',\n",
              " 'the',\n",
              " 'local',\n",
              " 'methamphetamine',\n",
              " 'drug',\n",
              " 'trade',\n",
              " ',',\n",
              " 'driven',\n",
              " 'to',\n",
              " 'provide',\n",
              " 'for',\n",
              " 'his',\n",
              " 'family',\n",
              " 'financially',\n",
              " 'after',\n",
              " 'being',\n",
              " 'diagnosed',\n",
              " 'with',\n",
              " 'inoperable',\n",
              " 'lung',\n",
              " 'cancer',\n",
              " '.',\n",
              " 'Initially',\n",
              " 'making',\n",
              " 'only',\n",
              " 'small',\n",
              " 'batches',\n",
              " 'of',\n",
              " 'meth',\n",
              " 'with',\n",
              " 'his',\n",
              " 'former',\n",
              " 'student',\n",
              " 'Jesse',\n",
              " 'Pinkman',\n",
              " 'in',\n",
              " 'a',\n",
              " 'rolling',\n",
              " 'meth',\n",
              " 'lab',\n",
              " ',',\n",
              " 'Walter',\n",
              " 'and',\n",
              " 'Jesse',\n",
              " 'eventually',\n",
              " 'expand',\n",
              " 'to',\n",
              " 'make',\n",
              " 'larger',\n",
              " 'batches',\n",
              " 'of',\n",
              " 'an',\n",
              " 'extremely',\n",
              " 'pure',\n",
              " ',',\n",
              " 'blue',\n",
              " 'meth',\n",
              " 'which',\n",
              " 'creates',\n",
              " 'high',\n",
              " 'demand',\n",
              " '.',\n",
              " 'Walter',\n",
              " 'takes',\n",
              " 'on',\n",
              " 'the',\n",
              " 'name',\n",
              " '``',\n",
              " 'Heisenberg',\n",
              " \"''\",\n",
              " 'to',\n",
              " 'mask',\n",
              " 'his',\n",
              " 'identity',\n",
              " '.',\n",
              " 'Because',\n",
              " 'of',\n",
              " 'his',\n",
              " 'new',\n",
              " 'business',\n",
              " ',',\n",
              " 'Walter',\n",
              " 'finds',\n",
              " 'himself',\n",
              " 'at',\n",
              " 'odds',\n",
              " 'with',\n",
              " 'his',\n",
              " 'family',\n",
              " ',',\n",
              " 'the',\n",
              " 'Drug',\n",
              " 'Enforcement',\n",
              " 'Administration',\n",
              " '(',\n",
              " 'DEA',\n",
              " ')',\n",
              " 'through',\n",
              " 'his',\n",
              " 'brother-in-law',\n",
              " 'Hank',\n",
              " 'Schrader',\n",
              " ',',\n",
              " 'the',\n",
              " 'local',\n",
              " 'gangs',\n",
              " 'and',\n",
              " 'the',\n",
              " 'Mexican',\n",
              " 'drug',\n",
              " 'cartels',\n",
              " '(',\n",
              " 'including',\n",
              " 'their',\n",
              " 'regional',\n",
              " 'distributors',\n",
              " ')',\n",
              " ',',\n",
              " 'putting',\n",
              " 'him',\n",
              " 'and',\n",
              " 'his',\n",
              " 'family',\n",
              " \"'s\",\n",
              " 'lives',\n",
              " 'at',\n",
              " 'risk',\n",
              " '.',\n",
              " 'The',\n",
              " 'events',\n",
              " 'of',\n",
              " 'the',\n",
              " 'series',\n",
              " 'take',\n",
              " 'place',\n",
              " 'between',\n",
              " '2008',\n",
              " 'and',\n",
              " '2010',\n",
              " '.']"
            ]
          },
          "metadata": {},
          "execution_count": 40
        }
      ]
    },
    {
      "cell_type": "code",
      "source": [
        "# used for stemming\n",
        "from nltk.stem import PorterStemmer\n",
        "\n",
        "# repetitive ords like \"the\" , \"they\" , \"of\" , \"them\" ,\"and\" etc. are removed\n",
        "from nltk.corpus import stopwords"
      ],
      "metadata": {
        "id": "sSDCWOD2qQX7"
      },
      "execution_count": null,
      "outputs": []
    },
    {
      "cell_type": "code",
      "source": [
        "stemmer = PorterStemmer()\n",
        "\n",
        "for i in range(len(sentences)):\n",
        "  words = nltk.word_tokenize(sentences[i])\n",
        "  words = [stemmer.stem(word) for word in words if word not in set(stopwords.words('english'))]\n",
        "  sentences[i] = ' '.join(words)\n"
      ],
      "metadata": {
        "id": "TruKQ1qaq3Zy"
      },
      "execution_count": null,
      "outputs": []
    },
    {
      "cell_type": "code",
      "source": [
        "# stem ords but some might not have concrete meaning\n",
        "sentences"
      ],
      "metadata": {
        "colab": {
          "base_uri": "https://localhost:8080/"
        },
        "id": "PvdLZeQRs63-",
        "outputId": "cf32e5f4-cfed-4788-8a95-3553660fa081"
      },
      "execution_count": null,
      "outputs": [
        {
          "output_type": "execute_result",
          "data": {
            "text/plain": [
              "['Breaking Bad follows Walter White, a struggling, frustrated high school chemistry teacher from Albuquerque, New Mexico, who becomes a crime lord in the local methamphetamine drug trade, driven to provide for his family financially after being diagnosed with inoperable lung cancer.',\n",
              " 'Initially making only small batches of meth with his former student Jesse Pinkman in a rolling meth lab, Walter and Jesse eventually expand to make larger batches of an extremely pure, blue meth which creates high demand.',\n",
              " 'Walter takes on the name \"Heisenberg\" to mask his identity.',\n",
              " \"Because of his new business, Walter finds himself at odds with his family, the Drug Enforcement Administration (DEA) through his brother-in-law Hank Schrader, the local gangs and the Mexican drug cartels (including their regional distributors), putting him and his family's lives at risk.\",\n",
              " 'The events of the series take place between 2008 and 2010.']"
            ]
          },
          "metadata": {},
          "execution_count": 66
        }
      ]
    },
    {
      "cell_type": "code",
      "source": [
        "# lemmitization\n",
        "\n",
        "from nltk.stem import WordNetLemmatizer\n",
        "lemmatizer = WordNetLemmatizer()\n",
        "\n",
        "print(lemmatizer.lemmatize(\"cats\"))"
      ],
      "metadata": {
        "colab": {
          "base_uri": "https://localhost:8080/"
        },
        "id": "EbPrwZB-tWZ0",
        "outputId": "852ce2e0-95e4-4a83-b7f6-6ef0d954ad98"
      },
      "execution_count": 3,
      "outputs": [
        {
          "output_type": "stream",
          "name": "stdout",
          "text": [
            "cat\n"
          ]
        }
      ]
    },
    {
      "cell_type": "code",
      "source": [
        "sentences = nltk.sent_tokenize(paragraph)\n",
        "for i in range(len(sentences)):\n",
        "  words = nltk.word_tokenize(sentences[i])\n",
        "  words = [lemmatizer.lemmatize(word) for word in words if word not in set(stopwords.words('english'))]\n",
        "  sentences[i] = ' '.join(words)"
      ],
      "metadata": {
        "id": "FHEW93O_tnWo"
      },
      "execution_count": null,
      "outputs": []
    },
    {
      "cell_type": "code",
      "source": [
        "sentences"
      ],
      "metadata": {
        "colab": {
          "base_uri": "https://localhost:8080/"
        },
        "id": "KMFL_IgPt0eN",
        "outputId": "c6bc684f-b81a-4eb0-a790-350e59369ced"
      },
      "execution_count": null,
      "outputs": [
        {
          "output_type": "execute_result",
          "data": {
            "text/plain": [
              "['Breaking Bad follows Walter White, a struggling, frustrated high school chemistry teacher from Albuquerque, New Mexico, who becomes a crime lord in the local methamphetamine drug trade, driven to provide for his family financially after being diagnosed with inoperable lung cancer.',\n",
              " 'Initially making only small batches of meth with his former student Jesse Pinkman in a rolling meth lab, Walter and Jesse eventually expand to make larger batches of an extremely pure, blue meth which creates high demand.',\n",
              " 'Walter takes on the name \"Heisenberg\" to mask his identity.',\n",
              " \"Because of his new business, Walter finds himself at odds with his family, the Drug Enforcement Administration (DEA) through his brother-in-law Hank Schrader, the local gangs and the Mexican drug cartels (including their regional distributors), putting him and his family's lives at risk.\",\n",
              " 'The events of the series take place between 2008 and 2010.']"
            ]
          },
          "metadata": {},
          "execution_count": 59
        }
      ]
    },
    {
      "cell_type": "code",
      "source": [
        "import re\n",
        "from nltk.corpus import stopwords\n",
        "from nltk.stem.porter import PorterStemmer\n",
        "from nltk.stem import WordNetLemmatizer\n",
        "import nltk\n",
        "nltk.download('stopwords')\n",
        "nltk.download('wordnet')\n",
        "ps = PorterStemmer()\n",
        "sentences = nltk.sent_tokenize(paragraph)\n",
        "corpus = []\n",
        "sentences"
      ],
      "metadata": {
        "colab": {
          "base_uri": "https://localhost:8080/"
        },
        "id": "s_4TemFC0Jq5",
        "outputId": "4f476b41-3838-4cb1-e574-c268b9a8faae"
      },
      "execution_count": 7,
      "outputs": [
        {
          "output_type": "stream",
          "name": "stderr",
          "text": [
            "[nltk_data] Downloading package stopwords to /root/nltk_data...\n",
            "[nltk_data]   Package stopwords is already up-to-date!\n",
            "[nltk_data] Downloading package wordnet to /root/nltk_data...\n",
            "[nltk_data]   Package wordnet is already up-to-date!\n"
          ]
        },
        {
          "output_type": "execute_result",
          "data": {
            "text/plain": [
              "['Breaking Bad follows Walter White, a struggling, frustrated high school chemistry teacher from Albuquerque, New Mexico, who becomes a crime lord in the local methamphetamine drug trade, driven to provide for his family financially after being diagnosed with inoperable lung cancer.',\n",
              " 'Initially making only small batches of meth with his former student Jesse Pinkman in a rolling meth lab, Walter and Jesse eventually expand to make larger batches of an extremely pure, blue meth which creates high demand.',\n",
              " 'Walter takes on the name \"Heisenberg\" to mask his identity.',\n",
              " \"Because of his new business, Walter finds himself at odds with his family, the Drug Enforcement Administration (DEA) through his brother-in-law Hank Schrader, the local gangs and the Mexican drug cartels (including their regional distributors), putting him and his family's lives at risk.\",\n",
              " 'The events of the series take place between 2008 and 2010.']"
            ]
          },
          "metadata": {},
          "execution_count": 7
        }
      ]
    },
    {
      "cell_type": "code",
      "source": [
        "for i in range(len(sentences)):\n",
        "  review = re.sub('[^a-zA-Z]' , ' ', sentences[i])\n",
        "  review = review.lower()\n",
        "  review = review.split()\n",
        "  review = [ps.stem(word) for word in review if word not in set(stopwords.words('english'))]\n",
        "  review = ' '.join(review)\n",
        "  corpus.append(review)\n",
        "corpus"
      ],
      "metadata": {
        "colab": {
          "base_uri": "https://localhost:8080/"
        },
        "id": "7fEs-ssP0ou7",
        "outputId": "8b31656c-6abe-4b2f-b00b-3588409ae89f"
      },
      "execution_count": 9,
      "outputs": [
        {
          "output_type": "execute_result",
          "data": {
            "text/plain": [
              "['break bad follow walter white struggl frustrat high school chemistri teacher albuquerqu new mexico becom crime lord local methamphetamin drug trade driven provid famili financi diagnos inoper lung cancer',\n",
              " 'initi make small batch meth former student jess pinkman roll meth lab walter jess eventu expand make larger batch extrem pure blue meth creat high demand',\n",
              " 'walter take name heisenberg mask ident',\n",
              " 'new busi walter find odd famili drug enforc administr dea brother law hank schrader local gang mexican drug cartel includ region distributor put famili live risk',\n",
              " 'event seri take place']"
            ]
          },
          "metadata": {},
          "execution_count": 9
        }
      ]
    },
    {
      "cell_type": "code",
      "source": [
        "from sklearn.feature_extraction.text import CountVectorizer\n",
        "cv = CountVectorizer(max_features=1500)\n",
        "X = cv.fit_transform(corpus).toarray()\n",
        "X"
      ],
      "metadata": {
        "colab": {
          "base_uri": "https://localhost:8080/"
        },
        "id": "8fECACKq1b8y",
        "outputId": "497dfffd-8c47-439e-89e2-2b55ab9a4fd6"
      },
      "execution_count": 10,
      "outputs": [
        {
          "output_type": "execute_result",
          "data": {
            "text/plain": [
              "array([[0, 1, 1, 0, 1, 0, 1, 0, 0, 1, 0, 1, 0, 1, 0, 0, 1, 0, 1, 1, 0, 0,\n",
              "        0, 0, 0, 1, 1, 0, 1, 0, 1, 0, 0, 0, 1, 0, 0, 0, 1, 0, 0, 0, 0, 0,\n",
              "        1, 1, 1, 0, 0, 0, 1, 0, 1, 0, 1, 0, 0, 0, 1, 0, 0, 0, 0, 0, 1, 0,\n",
              "        0, 0, 1, 0, 0, 1, 1, 1, 1],\n",
              "       [0, 0, 0, 2, 0, 1, 0, 0, 0, 0, 0, 0, 1, 0, 0, 1, 0, 0, 0, 0, 0, 0,\n",
              "        1, 1, 1, 0, 0, 0, 0, 1, 0, 0, 0, 0, 1, 0, 0, 1, 0, 2, 1, 1, 0, 0,\n",
              "        0, 0, 0, 2, 0, 3, 0, 0, 0, 0, 0, 0, 1, 0, 0, 1, 0, 0, 0, 1, 0, 0,\n",
              "        0, 1, 0, 1, 0, 0, 0, 1, 0],\n",
              "       [0, 0, 0, 0, 0, 0, 0, 0, 0, 0, 0, 0, 0, 0, 0, 0, 0, 0, 0, 0, 0, 0,\n",
              "        0, 0, 0, 0, 0, 0, 0, 0, 0, 0, 0, 1, 0, 1, 0, 0, 0, 0, 0, 0, 0, 0,\n",
              "        0, 0, 0, 0, 1, 0, 0, 0, 0, 1, 0, 0, 0, 0, 0, 0, 0, 0, 0, 0, 0, 0,\n",
              "        0, 0, 0, 0, 1, 0, 0, 1, 0],\n",
              "       [1, 0, 0, 0, 0, 0, 0, 1, 1, 0, 1, 0, 0, 0, 1, 0, 0, 1, 0, 2, 1, 0,\n",
              "        0, 0, 0, 2, 0, 1, 0, 0, 0, 1, 1, 0, 0, 0, 1, 0, 0, 0, 0, 0, 1, 1,\n",
              "        1, 0, 0, 0, 0, 0, 0, 1, 0, 0, 1, 1, 0, 0, 0, 0, 1, 1, 1, 0, 0, 1,\n",
              "        0, 0, 0, 0, 0, 0, 0, 1, 0],\n",
              "       [0, 0, 0, 0, 0, 0, 0, 0, 0, 0, 0, 0, 0, 0, 0, 0, 0, 0, 0, 0, 0, 1,\n",
              "        0, 0, 0, 0, 0, 0, 0, 0, 0, 0, 0, 0, 0, 0, 0, 0, 0, 0, 0, 0, 0, 0,\n",
              "        0, 0, 0, 0, 0, 0, 0, 0, 0, 0, 0, 0, 0, 1, 0, 0, 0, 0, 0, 0, 0, 0,\n",
              "        1, 0, 0, 0, 1, 0, 0, 0, 0]])"
            ]
          },
          "metadata": {},
          "execution_count": 10
        }
      ]
    },
    {
      "cell_type": "code",
      "source": [
        "# tfidf provides semantic value\n",
        "from sklearn.feature_extraction.text import TfidfVectorizer\n",
        "cv = TfidfVectorizer()\n",
        "X = cv.fit_transform(corpus).toarray()\n",
        "X"
      ],
      "metadata": {
        "colab": {
          "base_uri": "https://localhost:8080/"
        },
        "id": "GpmHpvA2BLPF",
        "outputId": "b4bc3074-c961-4f69-9ab2-bd4938ef90b7"
      },
      "execution_count": 11,
      "outputs": [
        {
          "output_type": "execute_result",
          "data": {
            "text/plain": [
              "array([[0.        , 0.19399388, 0.19399388, 0.        , 0.19399388,\n",
              "        0.        , 0.19399388, 0.        , 0.        , 0.19399388,\n",
              "        0.        , 0.19399388, 0.        , 0.19399388, 0.        ,\n",
              "        0.        , 0.19399388, 0.        , 0.19399388, 0.15651304,\n",
              "        0.        , 0.        , 0.        , 0.        , 0.        ,\n",
              "        0.15651304, 0.19399388, 0.        , 0.19399388, 0.        ,\n",
              "        0.19399388, 0.        , 0.        , 0.        , 0.15651304,\n",
              "        0.        , 0.        , 0.        , 0.19399388, 0.        ,\n",
              "        0.        , 0.        , 0.        , 0.        , 0.15651304,\n",
              "        0.19399388, 0.19399388, 0.        , 0.        , 0.        ,\n",
              "        0.19399388, 0.        , 0.19399388, 0.        , 0.15651304,\n",
              "        0.        , 0.        , 0.        , 0.19399388, 0.        ,\n",
              "        0.        , 0.        , 0.        , 0.        , 0.19399388,\n",
              "        0.        , 0.        , 0.        , 0.19399388, 0.        ,\n",
              "        0.        , 0.19399388, 0.19399388, 0.10929277, 0.19399388],\n",
              "       [0.        , 0.        , 0.        , 0.32893884, 0.        ,\n",
              "        0.16446942, 0.        , 0.        , 0.        , 0.        ,\n",
              "        0.        , 0.        , 0.16446942, 0.        , 0.        ,\n",
              "        0.16446942, 0.        , 0.        , 0.        , 0.        ,\n",
              "        0.        , 0.        , 0.16446942, 0.16446942, 0.16446942,\n",
              "        0.        , 0.        , 0.        , 0.        , 0.16446942,\n",
              "        0.        , 0.        , 0.        , 0.        , 0.13269289,\n",
              "        0.        , 0.        , 0.16446942, 0.        , 0.32893884,\n",
              "        0.16446942, 0.16446942, 0.        , 0.        , 0.        ,\n",
              "        0.        , 0.        , 0.32893884, 0.        , 0.49340827,\n",
              "        0.        , 0.        , 0.        , 0.        , 0.        ,\n",
              "        0.        , 0.16446942, 0.        , 0.        , 0.16446942,\n",
              "        0.        , 0.        , 0.        , 0.16446942, 0.        ,\n",
              "        0.        , 0.        , 0.16446942, 0.        , 0.16446942,\n",
              "        0.        , 0.        , 0.        , 0.0926592 , 0.        ],\n",
              "       [0.        , 0.        , 0.        , 0.        , 0.        ,\n",
              "        0.        , 0.        , 0.        , 0.        , 0.        ,\n",
              "        0.        , 0.        , 0.        , 0.        , 0.        ,\n",
              "        0.        , 0.        , 0.        , 0.        , 0.        ,\n",
              "        0.        , 0.        , 0.        , 0.        , 0.        ,\n",
              "        0.        , 0.        , 0.        , 0.        , 0.        ,\n",
              "        0.        , 0.        , 0.        , 0.44863732, 0.        ,\n",
              "        0.44863732, 0.        , 0.        , 0.        , 0.        ,\n",
              "        0.        , 0.        , 0.        , 0.        , 0.        ,\n",
              "        0.        , 0.        , 0.        , 0.44863732, 0.        ,\n",
              "        0.        , 0.        , 0.        , 0.44863732, 0.        ,\n",
              "        0.        , 0.        , 0.        , 0.        , 0.        ,\n",
              "        0.        , 0.        , 0.        , 0.        , 0.        ,\n",
              "        0.        , 0.        , 0.        , 0.        , 0.        ,\n",
              "        0.36195776, 0.        , 0.        , 0.25275444, 0.        ],\n",
              "       [0.19677355, 0.        , 0.        , 0.        , 0.        ,\n",
              "        0.        , 0.        , 0.19677355, 0.19677355, 0.        ,\n",
              "        0.19677355, 0.        , 0.        , 0.        , 0.19677355,\n",
              "        0.        , 0.        , 0.19677355, 0.        , 0.31751132,\n",
              "        0.19677355, 0.        , 0.        , 0.        , 0.        ,\n",
              "        0.31751132, 0.        , 0.19677355, 0.        , 0.        ,\n",
              "        0.        , 0.19677355, 0.19677355, 0.        , 0.        ,\n",
              "        0.        , 0.19677355, 0.        , 0.        , 0.        ,\n",
              "        0.        , 0.        , 0.19677355, 0.19677355, 0.15875566,\n",
              "        0.        , 0.        , 0.        , 0.        , 0.        ,\n",
              "        0.        , 0.19677355, 0.        , 0.        , 0.15875566,\n",
              "        0.19677355, 0.        , 0.        , 0.        , 0.        ,\n",
              "        0.19677355, 0.19677355, 0.19677355, 0.        , 0.        ,\n",
              "        0.19677355, 0.        , 0.        , 0.        , 0.        ,\n",
              "        0.        , 0.        , 0.        , 0.11085878, 0.        ],\n",
              "       [0.        , 0.        , 0.        , 0.        , 0.        ,\n",
              "        0.        , 0.        , 0.        , 0.        , 0.        ,\n",
              "        0.        , 0.        , 0.        , 0.        , 0.        ,\n",
              "        0.        , 0.        , 0.        , 0.        , 0.        ,\n",
              "        0.        , 0.52335825, 0.        , 0.        , 0.        ,\n",
              "        0.        , 0.        , 0.        , 0.        , 0.        ,\n",
              "        0.        , 0.        , 0.        , 0.        , 0.        ,\n",
              "        0.        , 0.        , 0.        , 0.        , 0.        ,\n",
              "        0.        , 0.        , 0.        , 0.        , 0.        ,\n",
              "        0.        , 0.        , 0.        , 0.        , 0.        ,\n",
              "        0.        , 0.        , 0.        , 0.        , 0.        ,\n",
              "        0.        , 0.        , 0.52335825, 0.        , 0.        ,\n",
              "        0.        , 0.        , 0.        , 0.        , 0.        ,\n",
              "        0.        , 0.52335825, 0.        , 0.        , 0.        ,\n",
              "        0.42224214, 0.        , 0.        , 0.        , 0.        ]])"
            ]
          },
          "metadata": {},
          "execution_count": 11
        }
      ]
    }
  ]
}