{
  "nbformat": 4,
  "nbformat_minor": 0,
  "metadata": {
    "colab": {
      "provenance": [],
      "authorship_tag": "ABX9TyMSQSmZTpBbcQyfHnMxgPkW",
      "include_colab_link": true
    },
    "kernelspec": {
      "name": "python3",
      "display_name": "Python 3"
    },
    "language_info": {
      "name": "python"
    }
  },
  "cells": [
    {
      "cell_type": "markdown",
      "metadata": {
        "id": "view-in-github",
        "colab_type": "text"
      },
      "source": [
        "<a href=\"https://colab.research.google.com/github/anurag4667/Deep_learning/blob/main/nlp.ipynb\" target=\"_parent\"><img src=\"https://colab.research.google.com/assets/colab-badge.svg\" alt=\"Open In Colab\"/></a>"
      ]
    },
    {
      "cell_type": "code",
      "execution_count": 27,
      "metadata": {
        "colab": {
          "base_uri": "https://localhost:8080/"
        },
        "id": "8XWUuVGfnLEi",
        "outputId": "93a71d56-7f6a-4050-fe87-074c9be83e1e"
      },
      "outputs": [
        {
          "output_type": "stream",
          "name": "stderr",
          "text": [
            "[nltk_data] Downloading package stopwords to /root/nltk_data...\n",
            "[nltk_data]   Package stopwords is already up-to-date!\n",
            "[nltk_data] Downloading package wordnet to /root/nltk_data...\n"
          ]
        },
        {
          "output_type": "execute_result",
          "data": {
            "text/plain": [
              "True"
            ]
          },
          "metadata": {},
          "execution_count": 27
        }
      ],
      "source": [
        "import nltk\n",
        "nltk.download('stopwords')\n",
        "nltk.download('wordnet')"
      ]
    },
    {
      "cell_type": "code",
      "source": [
        "paragraph = \"\"\"Breaking Bad follows Walter White, a struggling, frustrated high school chemistry teacher from Albuquerque, New Mexico, who becomes a crime lord in the local methamphetamine drug trade, driven to provide for his family financially after being diagnosed with inoperable lung cancer. Initially making only small batches of meth with his former student Jesse Pinkman in a rolling meth lab, Walter and Jesse eventually expand to make larger batches of an extremely pure, blue meth which creates high demand. Walter takes on the name \"Heisenberg\" to mask his identity. Because of his new business, Walter finds himself at odds with his family, the Drug Enforcement Administration (DEA) through his brother-in-law Hank Schrader, the local gangs and the Mexican drug cartels (including their regional distributors), putting him and his family's lives at risk. The events of the series take place between 2008 and 2010.\"\"\""
      ],
      "metadata": {
        "id": "6ObYOXpHncH2"
      },
      "execution_count": 18,
      "outputs": []
    },
    {
      "cell_type": "code",
      "source": [
        "sentences = nltk.sent_tokenize(paragraph)\n",
        "sentences"
      ],
      "metadata": {
        "colab": {
          "base_uri": "https://localhost:8080/"
        },
        "id": "P_xdfXysoDjK",
        "outputId": "b5fd00ed-ffca-43d2-ef04-30a514e7646b"
      },
      "execution_count": 19,
      "outputs": [
        {
          "output_type": "execute_result",
          "data": {
            "text/plain": [
              "['Breaking Bad follows Walter White, a struggling, frustrated high school chemistry teacher from Albuquerque, New Mexico, who becomes a crime lord in the local methamphetamine drug trade, driven to provide for his family financially after being diagnosed with inoperable lung cancer.',\n",
              " 'Initially making only small batches of meth with his former student Jesse Pinkman in a rolling meth lab, Walter and Jesse eventually expand to make larger batches of an extremely pure, blue meth which creates high demand.',\n",
              " 'Walter takes on the name \"Heisenberg\" to mask his identity.',\n",
              " \"Because of his new business, Walter finds himself at odds with his family, the Drug Enforcement Administration (DEA) through his brother-in-law Hank Schrader, the local gangs and the Mexican drug cartels (including their regional distributors), putting him and his family's lives at risk.\",\n",
              " 'The events of the series take place between 2008 and 2010.']"
            ]
          },
          "metadata": {},
          "execution_count": 19
        }
      ]
    },
    {
      "cell_type": "code",
      "source": [
        "words = nltk.word_tokenize(paragraph)\n",
        "words"
      ],
      "metadata": {
        "colab": {
          "base_uri": "https://localhost:8080/"
        },
        "id": "dO2XTehVoSxI",
        "outputId": "2f82672a-ac5a-4afc-dc13-a49e560d98c5"
      },
      "execution_count": 20,
      "outputs": [
        {
          "output_type": "execute_result",
          "data": {
            "text/plain": [
              "['Breaking',\n",
              " 'Bad',\n",
              " 'follows',\n",
              " 'Walter',\n",
              " 'White',\n",
              " ',',\n",
              " 'a',\n",
              " 'struggling',\n",
              " ',',\n",
              " 'frustrated',\n",
              " 'high',\n",
              " 'school',\n",
              " 'chemistry',\n",
              " 'teacher',\n",
              " 'from',\n",
              " 'Albuquerque',\n",
              " ',',\n",
              " 'New',\n",
              " 'Mexico',\n",
              " ',',\n",
              " 'who',\n",
              " 'becomes',\n",
              " 'a',\n",
              " 'crime',\n",
              " 'lord',\n",
              " 'in',\n",
              " 'the',\n",
              " 'local',\n",
              " 'methamphetamine',\n",
              " 'drug',\n",
              " 'trade',\n",
              " ',',\n",
              " 'driven',\n",
              " 'to',\n",
              " 'provide',\n",
              " 'for',\n",
              " 'his',\n",
              " 'family',\n",
              " 'financially',\n",
              " 'after',\n",
              " 'being',\n",
              " 'diagnosed',\n",
              " 'with',\n",
              " 'inoperable',\n",
              " 'lung',\n",
              " 'cancer',\n",
              " '.',\n",
              " 'Initially',\n",
              " 'making',\n",
              " 'only',\n",
              " 'small',\n",
              " 'batches',\n",
              " 'of',\n",
              " 'meth',\n",
              " 'with',\n",
              " 'his',\n",
              " 'former',\n",
              " 'student',\n",
              " 'Jesse',\n",
              " 'Pinkman',\n",
              " 'in',\n",
              " 'a',\n",
              " 'rolling',\n",
              " 'meth',\n",
              " 'lab',\n",
              " ',',\n",
              " 'Walter',\n",
              " 'and',\n",
              " 'Jesse',\n",
              " 'eventually',\n",
              " 'expand',\n",
              " 'to',\n",
              " 'make',\n",
              " 'larger',\n",
              " 'batches',\n",
              " 'of',\n",
              " 'an',\n",
              " 'extremely',\n",
              " 'pure',\n",
              " ',',\n",
              " 'blue',\n",
              " 'meth',\n",
              " 'which',\n",
              " 'creates',\n",
              " 'high',\n",
              " 'demand',\n",
              " '.',\n",
              " 'Walter',\n",
              " 'takes',\n",
              " 'on',\n",
              " 'the',\n",
              " 'name',\n",
              " '``',\n",
              " 'Heisenberg',\n",
              " \"''\",\n",
              " 'to',\n",
              " 'mask',\n",
              " 'his',\n",
              " 'identity',\n",
              " '.',\n",
              " 'Because',\n",
              " 'of',\n",
              " 'his',\n",
              " 'new',\n",
              " 'business',\n",
              " ',',\n",
              " 'Walter',\n",
              " 'finds',\n",
              " 'himself',\n",
              " 'at',\n",
              " 'odds',\n",
              " 'with',\n",
              " 'his',\n",
              " 'family',\n",
              " ',',\n",
              " 'the',\n",
              " 'Drug',\n",
              " 'Enforcement',\n",
              " 'Administration',\n",
              " '(',\n",
              " 'DEA',\n",
              " ')',\n",
              " 'through',\n",
              " 'his',\n",
              " 'brother-in-law',\n",
              " 'Hank',\n",
              " 'Schrader',\n",
              " ',',\n",
              " 'the',\n",
              " 'local',\n",
              " 'gangs',\n",
              " 'and',\n",
              " 'the',\n",
              " 'Mexican',\n",
              " 'drug',\n",
              " 'cartels',\n",
              " '(',\n",
              " 'including',\n",
              " 'their',\n",
              " 'regional',\n",
              " 'distributors',\n",
              " ')',\n",
              " ',',\n",
              " 'putting',\n",
              " 'him',\n",
              " 'and',\n",
              " 'his',\n",
              " 'family',\n",
              " \"'s\",\n",
              " 'lives',\n",
              " 'at',\n",
              " 'risk',\n",
              " '.',\n",
              " 'The',\n",
              " 'events',\n",
              " 'of',\n",
              " 'the',\n",
              " 'series',\n",
              " 'take',\n",
              " 'place',\n",
              " 'between',\n",
              " '2008',\n",
              " 'and',\n",
              " '2010',\n",
              " '.']"
            ]
          },
          "metadata": {},
          "execution_count": 20
        }
      ]
    },
    {
      "cell_type": "code",
      "source": [
        "# used for stemming\n",
        "from nltk.stem import PorterStemmer\n",
        "\n",
        "# repetitive ords like \"the\" , \"they\" , \"of\" , \"them\" ,\"and\" etc. are removed\n",
        "from nltk.corpus import stopwords"
      ],
      "metadata": {
        "id": "sSDCWOD2qQX7"
      },
      "execution_count": 21,
      "outputs": []
    },
    {
      "cell_type": "code",
      "source": [
        "stemmer = PorterStemmer()\n",
        "\n",
        "for i in range(len(sentences)):\n",
        "  words = nltk.word_tokenize(sentences[i])\n",
        "  words = [stemmer.stem(word) for word in words if word not in set(stopwords.words('english'))]\n",
        "  sentences[i] = ' '.join(words)\n"
      ],
      "metadata": {
        "id": "TruKQ1qaq3Zy"
      },
      "execution_count": 23,
      "outputs": []
    },
    {
      "cell_type": "code",
      "source": [
        "# stem ords but some might not have concrete meaning\n",
        "sentences"
      ],
      "metadata": {
        "colab": {
          "base_uri": "https://localhost:8080/"
        },
        "id": "PvdLZeQRs63-",
        "outputId": "2c8c92d6-3c42-41c8-9a3e-18da704567b1"
      },
      "execution_count": 25,
      "outputs": [
        {
          "output_type": "execute_result",
          "data": {
            "text/plain": [
              "['break bad follow walter white , struggl , frustrat high school chemistri teacher albuquerqu , new mexico , becom crime lord local methamphetamin drug trade , driven provid famili financi diagnos inoper lung cancer .',\n",
              " 'initi make small batch meth former student jess pinkman roll meth lab , walter jess eventu expand make larger batch extrem pure , blue meth creat high demand .',\n",
              " \"walter take name `` heisenberg '' mask ident .\",\n",
              " \"becaus new busi , walter find odd famili , drug enforc administr ( dea ) brother-in-law hank schrader , local gang mexican drug cartel ( includ region distributor ) , put famili 's live risk .\",\n",
              " 'the event seri take place 2008 2010 .']"
            ]
          },
          "metadata": {},
          "execution_count": 25
        }
      ]
    },
    {
      "cell_type": "code",
      "source": [
        "# lemmitization\n",
        "\n",
        "from nltk.stem import WordNetLemmatizer\n",
        "lemmatizer = WordNetLemmatizer()\n",
        "\n",
        "print(lemmatizer.lemmatize(\"cats\"))"
      ],
      "metadata": {
        "colab": {
          "base_uri": "https://localhost:8080/"
        },
        "id": "EbPrwZB-tWZ0",
        "outputId": "e11bcc36-287c-41a9-e3c7-6640caae1a28"
      },
      "execution_count": 28,
      "outputs": [
        {
          "output_type": "stream",
          "name": "stdout",
          "text": [
            "cat\n"
          ]
        }
      ]
    },
    {
      "cell_type": "code",
      "source": [
        "sentences = nltk.sent_tokenize(paragraph)\n",
        "for i in range(len(sentences)):\n",
        "  words = nltk.word_tokenize(sentences[i])\n",
        "  words = [lemmatizer.lemmatize(word) for word in words if word not in set(stopwords.words('english'))]\n",
        "  sentences[i] = ' '.join(words)"
      ],
      "metadata": {
        "id": "FHEW93O_tnWo"
      },
      "execution_count": 29,
      "outputs": []
    },
    {
      "cell_type": "code",
      "source": [
        "sentences"
      ],
      "metadata": {
        "colab": {
          "base_uri": "https://localhost:8080/"
        },
        "id": "KMFL_IgPt0eN",
        "outputId": "1c4649da-7806-4426-fde7-6dd8b9ef19fc"
      },
      "execution_count": 30,
      "outputs": [
        {
          "output_type": "execute_result",
          "data": {
            "text/plain": [
              "['Breaking Bad follows Walter White , struggling , frustrated high school chemistry teacher Albuquerque , New Mexico , becomes crime lord local methamphetamine drug trade , driven provide family financially diagnosed inoperable lung cancer .',\n",
              " 'Initially making small batch meth former student Jesse Pinkman rolling meth lab , Walter Jesse eventually expand make larger batch extremely pure , blue meth creates high demand .',\n",
              " \"Walter take name `` Heisenberg '' mask identity .\",\n",
              " \"Because new business , Walter find odds family , Drug Enforcement Administration ( DEA ) brother-in-law Hank Schrader , local gang Mexican drug cartel ( including regional distributor ) , putting family 's life risk .\",\n",
              " 'The event series take place 2008 2010 .']"
            ]
          },
          "metadata": {},
          "execution_count": 30
        }
      ]
    }
  ]
}