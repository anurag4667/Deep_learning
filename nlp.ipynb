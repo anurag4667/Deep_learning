{
  "nbformat": 4,
  "nbformat_minor": 0,
  "metadata": {
    "colab": {
      "provenance": [],
      "authorship_tag": "ABX9TyPDn5Ao9ldW8COQb6ZxYnU1",
      "include_colab_link": true
    },
    "kernelspec": {
      "name": "python3",
      "display_name": "Python 3"
    },
    "language_info": {
      "name": "python"
    }
  },
  "cells": [
    {
      "cell_type": "markdown",
      "metadata": {
        "id": "view-in-github",
        "colab_type": "text"
      },
      "source": [
        "<a href=\"https://colab.research.google.com/github/anurag4667/Deep_learning/blob/main/nlp.ipynb\" target=\"_parent\"><img src=\"https://colab.research.google.com/assets/colab-badge.svg\" alt=\"Open In Colab\"/></a>"
      ]
    },
    {
      "cell_type": "code",
      "execution_count": 7,
      "metadata": {
        "colab": {
          "base_uri": "https://localhost:8080/"
        },
        "id": "8XWUuVGfnLEi",
        "outputId": "09946df0-a3d8-4d06-93cf-976c1514e8c1"
      },
      "outputs": [
        {
          "output_type": "stream",
          "name": "stderr",
          "text": [
            "[nltk_data] Downloading package punkt_tab to /root/nltk_data...\n",
            "[nltk_data]   Unzipping tokenizers/punkt_tab.zip.\n"
          ]
        },
        {
          "output_type": "execute_result",
          "data": {
            "text/plain": [
              "True"
            ]
          },
          "metadata": {},
          "execution_count": 7
        }
      ],
      "source": [
        "import nltk\n",
        "nltk.download('punkt_tab')"
      ]
    },
    {
      "cell_type": "code",
      "source": [
        "paragraph = \"\"\"Breaking Bad follows Walter White, a struggling, frustrated high school chemistry teacher from Albuquerque, New Mexico, who becomes a crime lord in the local methamphetamine drug trade, driven to provide for his family financially after being diagnosed with inoperable lung cancer. Initially making only small batches of meth with his former student Jesse Pinkman in a rolling meth lab, Walter and Jesse eventually expand to make larger batches of an extremely pure, blue meth which creates high demand. Walter takes on the name \"Heisenberg\" to mask his identity. Because of his new business, Walter finds himself at odds with his family, the Drug Enforcement Administration (DEA) through his brother-in-law Hank Schrader, the local gangs and the Mexican drug cartels (including their regional distributors), putting him and his family's lives at risk. The events of the series take place between 2008 and 2010.\"\"\""
      ],
      "metadata": {
        "id": "6ObYOXpHncH2"
      },
      "execution_count": 8,
      "outputs": []
    },
    {
      "cell_type": "code",
      "source": [
        "sentences = nltk.sent_tokenize(paragraph)\n",
        "sentences"
      ],
      "metadata": {
        "colab": {
          "base_uri": "https://localhost:8080/"
        },
        "id": "P_xdfXysoDjK",
        "outputId": "c0cc61dd-2e3d-48f8-ee90-748fbc058ee6"
      },
      "execution_count": 9,
      "outputs": [
        {
          "output_type": "execute_result",
          "data": {
            "text/plain": [
              "['Breaking Bad follows Walter White, a struggling, frustrated high school chemistry teacher from Albuquerque, New Mexico, who becomes a crime lord in the local methamphetamine drug trade, driven to provide for his family financially after being diagnosed with inoperable lung cancer.',\n",
              " 'Initially making only small batches of meth with his former student Jesse Pinkman in a rolling meth lab, Walter and Jesse eventually expand to make larger batches of an extremely pure, blue meth which creates high demand.',\n",
              " 'Walter takes on the name \"Heisenberg\" to mask his identity.',\n",
              " \"Because of his new business, Walter finds himself at odds with his family, the Drug Enforcement Administration (DEA) through his brother-in-law Hank Schrader, the local gangs and the Mexican drug cartels (including their regional distributors), putting him and his family's lives at risk.\",\n",
              " 'The events of the series take place between 2008 and 2010.']"
            ]
          },
          "metadata": {},
          "execution_count": 9
        }
      ]
    },
    {
      "cell_type": "code",
      "source": [
        "words = nltk.word_tokenize(paragraph)\n",
        "words"
      ],
      "metadata": {
        "colab": {
          "base_uri": "https://localhost:8080/"
        },
        "id": "dO2XTehVoSxI",
        "outputId": "9838febd-821c-4d87-8e7e-93bdc4bca0f5"
      },
      "execution_count": 10,
      "outputs": [
        {
          "output_type": "execute_result",
          "data": {
            "text/plain": [
              "['Breaking',\n",
              " 'Bad',\n",
              " 'follows',\n",
              " 'Walter',\n",
              " 'White',\n",
              " ',',\n",
              " 'a',\n",
              " 'struggling',\n",
              " ',',\n",
              " 'frustrated',\n",
              " 'high',\n",
              " 'school',\n",
              " 'chemistry',\n",
              " 'teacher',\n",
              " 'from',\n",
              " 'Albuquerque',\n",
              " ',',\n",
              " 'New',\n",
              " 'Mexico',\n",
              " ',',\n",
              " 'who',\n",
              " 'becomes',\n",
              " 'a',\n",
              " 'crime',\n",
              " 'lord',\n",
              " 'in',\n",
              " 'the',\n",
              " 'local',\n",
              " 'methamphetamine',\n",
              " 'drug',\n",
              " 'trade',\n",
              " ',',\n",
              " 'driven',\n",
              " 'to',\n",
              " 'provide',\n",
              " 'for',\n",
              " 'his',\n",
              " 'family',\n",
              " 'financially',\n",
              " 'after',\n",
              " 'being',\n",
              " 'diagnosed',\n",
              " 'with',\n",
              " 'inoperable',\n",
              " 'lung',\n",
              " 'cancer',\n",
              " '.',\n",
              " 'Initially',\n",
              " 'making',\n",
              " 'only',\n",
              " 'small',\n",
              " 'batches',\n",
              " 'of',\n",
              " 'meth',\n",
              " 'with',\n",
              " 'his',\n",
              " 'former',\n",
              " 'student',\n",
              " 'Jesse',\n",
              " 'Pinkman',\n",
              " 'in',\n",
              " 'a',\n",
              " 'rolling',\n",
              " 'meth',\n",
              " 'lab',\n",
              " ',',\n",
              " 'Walter',\n",
              " 'and',\n",
              " 'Jesse',\n",
              " 'eventually',\n",
              " 'expand',\n",
              " 'to',\n",
              " 'make',\n",
              " 'larger',\n",
              " 'batches',\n",
              " 'of',\n",
              " 'an',\n",
              " 'extremely',\n",
              " 'pure',\n",
              " ',',\n",
              " 'blue',\n",
              " 'meth',\n",
              " 'which',\n",
              " 'creates',\n",
              " 'high',\n",
              " 'demand',\n",
              " '.',\n",
              " 'Walter',\n",
              " 'takes',\n",
              " 'on',\n",
              " 'the',\n",
              " 'name',\n",
              " '``',\n",
              " 'Heisenberg',\n",
              " \"''\",\n",
              " 'to',\n",
              " 'mask',\n",
              " 'his',\n",
              " 'identity',\n",
              " '.',\n",
              " 'Because',\n",
              " 'of',\n",
              " 'his',\n",
              " 'new',\n",
              " 'business',\n",
              " ',',\n",
              " 'Walter',\n",
              " 'finds',\n",
              " 'himself',\n",
              " 'at',\n",
              " 'odds',\n",
              " 'with',\n",
              " 'his',\n",
              " 'family',\n",
              " ',',\n",
              " 'the',\n",
              " 'Drug',\n",
              " 'Enforcement',\n",
              " 'Administration',\n",
              " '(',\n",
              " 'DEA',\n",
              " ')',\n",
              " 'through',\n",
              " 'his',\n",
              " 'brother-in-law',\n",
              " 'Hank',\n",
              " 'Schrader',\n",
              " ',',\n",
              " 'the',\n",
              " 'local',\n",
              " 'gangs',\n",
              " 'and',\n",
              " 'the',\n",
              " 'Mexican',\n",
              " 'drug',\n",
              " 'cartels',\n",
              " '(',\n",
              " 'including',\n",
              " 'their',\n",
              " 'regional',\n",
              " 'distributors',\n",
              " ')',\n",
              " ',',\n",
              " 'putting',\n",
              " 'him',\n",
              " 'and',\n",
              " 'his',\n",
              " 'family',\n",
              " \"'s\",\n",
              " 'lives',\n",
              " 'at',\n",
              " 'risk',\n",
              " '.',\n",
              " 'The',\n",
              " 'events',\n",
              " 'of',\n",
              " 'the',\n",
              " 'series',\n",
              " 'take',\n",
              " 'place',\n",
              " 'between',\n",
              " '2008',\n",
              " 'and',\n",
              " '2010',\n",
              " '.']"
            ]
          },
          "metadata": {},
          "execution_count": 10
        }
      ]
    }
  ]
}